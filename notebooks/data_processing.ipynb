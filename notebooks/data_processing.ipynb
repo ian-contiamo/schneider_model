{
 "cells": [
  {
   "cell_type": "code",
   "execution_count": 2,
   "metadata": {},
   "outputs": [],
   "source": [
    "from pathlib import Path\n",
    "\n",
    "import numpy as np\n",
    "import pandas as pd"
   ]
  },
  {
   "cell_type": "code",
   "execution_count": 4,
   "metadata": {},
   "outputs": [],
   "source": [
    "DATA = Path.home() / 'work' / 'data'\n",
    "DATA_RAW = DATA / 'raw'\n",
    "DATA_PROCESSED = DATA / 'processed'"
   ]
  },
  {
   "cell_type": "markdown",
   "metadata": {},
   "source": [
    "# Load raw data"
   ]
  },
  {
   "cell_type": "code",
   "execution_count": 3,
   "metadata": {},
   "outputs": [
    {
     "name": "stderr",
     "output_type": "stream",
     "text": [
      "/opt/conda/lib/python3.7/site-packages/numpy/lib/arraysetops.py:522: FutureWarning: elementwise comparison failed; returning scalar instead, but in the future will perform elementwise comparison\n",
      "  mask |= (ar1 == a)\n"
     ]
    },
    {
     "name": "stdout",
     "output_type": "stream",
     "text": [
      "CPU times: user 24.9 s, sys: 1.13 s, total: 26 s\n",
      "Wall time: 26 s\n"
     ]
    }
   ],
   "source": [
    "%%time\n",
    "train_values = pd.read_csv(DATA_RAW / 'train_values.zip',\n",
    "                           index_col=0,\n",
    "                           parse_dates=['timestamp'])"
   ]
  },
  {
   "cell_type": "code",
   "execution_count": 4,
   "metadata": {},
   "outputs": [
    {
     "name": "stdout",
     "output_type": "stream",
     "text": [
      "CPU times: user 7.67 s, sys: 75.8 ms, total: 7.74 s\n",
      "Wall time: 7.74 s\n"
     ]
    }
   ],
   "source": [
    "%%time\n",
    "test_values = pd.read_csv(DATA_RAW / 'test_values.zip',\n",
    "                         index_col=0,\n",
    "                         parse_dates=['timestamp'])"
   ]
  },
  {
   "cell_type": "code",
   "execution_count": 5,
   "metadata": {},
   "outputs": [],
   "source": [
    "train_labels = pd.read_csv(DATA_RAW / 'train_labels.csv', index_col=0)"
   ]
  },
  {
   "cell_type": "markdown",
   "metadata": {},
   "source": [
    "# Drop final rinse"
   ]
  },
  {
   "cell_type": "code",
   "execution_count": 6,
   "metadata": {},
   "outputs": [],
   "source": [
    "train_view = train_values[train_values['phase'] != 'final_rinse']"
   ]
  },
  {
   "cell_type": "markdown",
   "metadata": {},
   "source": [
    "This drops processes that only had a final rinse. We drop them from target values for consistency:"
   ]
  },
  {
   "cell_type": "code",
   "execution_count": 7,
   "metadata": {},
   "outputs": [],
   "source": [
    "train_labels = train_labels.drop(list(set(train_values['process_id'].unique()).difference(set(train_view['process_id'].unique()))))"
   ]
  },
  {
   "cell_type": "markdown",
   "metadata": {
    "toc-hr-collapsed": false
   },
   "source": [
    "# Split train data"
   ]
  },
  {
   "cell_type": "code",
   "execution_count": 8,
   "metadata": {},
   "outputs": [],
   "source": [
    "np.random.seed(123)"
   ]
  },
  {
   "cell_type": "code",
   "execution_count": 9,
   "metadata": {},
   "outputs": [],
   "source": [
    "train_target = train_labels[['final_rinse_total_turbidity_liter']].sample(frac=0.7)\n",
    "test_target  = train_labels[['final_rinse_total_turbidity_liter']].drop(train_target.index)"
   ]
  },
  {
   "cell_type": "code",
   "execution_count": 10,
   "metadata": {},
   "outputs": [],
   "source": [
    "train_timeseries = train_view[train_view['process_id'].isin(train_target.index)]\n",
    "test_timeseries  = train_view[train_view['process_id'].isin(test_target.index)]"
   ]
  },
  {
   "cell_type": "markdown",
   "metadata": {},
   "source": [
    "# Truncate"
   ]
  },
  {
   "cell_type": "code",
   "execution_count": 11,
   "metadata": {},
   "outputs": [],
   "source": [
    "def count_phases(data):\n",
    "    phase_count = data.groupby('process_id')['phase'].nunique().value_counts().sort_index().rename('count')\n",
    "    phase_count = (phase_count.rename('pct') / phase_count.sum()).mul(100).round(1)\n",
    "    return phase_count"
   ]
  },
  {
   "cell_type": "code",
   "execution_count": 12,
   "metadata": {},
   "outputs": [
    {
     "data": {
      "text/plain": [
       "1     4.8\n",
       "2    20.3\n",
       "3     0.4\n",
       "4    74.4\n",
       "Name: pct, dtype: float64"
      ]
     },
     "execution_count": 12,
     "metadata": {},
     "output_type": "execute_result"
    }
   ],
   "source": [
    "count_phases(train_view)"
   ]
  },
  {
   "cell_type": "code",
   "execution_count": 13,
   "metadata": {},
   "outputs": [
    {
     "data": {
      "text/plain": [
       "1    14.7\n",
       "2    39.9\n",
       "3    22.8\n",
       "4    22.6\n",
       "Name: pct, dtype: float64"
      ]
     },
     "execution_count": 13,
     "metadata": {},
     "output_type": "execute_result"
    }
   ],
   "source": [
    "count_phases(test_values)"
   ]
  },
  {
   "cell_type": "markdown",
   "metadata": {},
   "source": [
    "## Truncation method\n",
    "\n",
    "We randomly select **51.8%** of the 74.4% processes with 4 phases, then randomly:\n",
    "* select **9.9%** and truncate them to 1 phase;\n",
    "* select **19.6%** and truncate them to 2 phases;\n",
    "* select **22.4%** and truncate them to 3 phases.\n"
   ]
  },
  {
   "cell_type": "code",
   "execution_count": 14,
   "metadata": {},
   "outputs": [],
   "source": [
    "trunc_params = {\n",
    "    1: 0.099,  # truncate to 1 phase\n",
    "    2: 0.196,\n",
    "    3: 0.224,\n",
    "}\n",
    "phases = ['pre_rinse', 'caustic', 'intermediate_rinse', 'acid']"
   ]
  },
  {
   "cell_type": "code",
   "execution_count": 15,
   "metadata": {},
   "outputs": [],
   "source": [
    "def truncate(data):\n",
    "    phase_count = data.groupby('process_id')['phase'].nunique()\n",
    "    nb_processes = len(phase_count)  # percentages are expressed in terms of the total population\n",
    "    sample_pool = phase_count[phase_count == 4]\n",
    "    for truncate, pct in trunc_params.items():\n",
    "        count = round(pct * nb_processes)\n",
    "        processes = sample_pool.sample(count).index.tolist()\n",
    "        data = data[~(data['process_id'].isin(processes) & data['phase'].isin(phases[truncate:]))]\n",
    "        # drop selected processes so they are not selected again\n",
    "        sample_pool = sample_pool[~sample_pool.index.isin(processes)]\n",
    "    return data"
   ]
  },
  {
   "cell_type": "code",
   "execution_count": 16,
   "metadata": {},
   "outputs": [],
   "source": [
    "train_ts_truncated = truncate(train_timeseries)\n",
    "test_ts_truncated = truncate(test_timeseries)"
   ]
  },
  {
   "cell_type": "markdown",
   "metadata": {},
   "source": [
    "## Visual check against hidden test set"
   ]
  },
  {
   "cell_type": "code",
   "execution_count": 17,
   "metadata": {},
   "outputs": [],
   "source": [
    "def drop_consecutive_duplicates(s):\n",
    "    return ' + '.join(s[s.shift() != s])\n",
    "\n",
    "def recipe_count(data):\n",
    "    return data.groupby('process_id')['phase'].apply(drop_consecutive_duplicates).value_counts().rename('count')"
   ]
  },
  {
   "cell_type": "code",
   "execution_count": 18,
   "metadata": {},
   "outputs": [
    {
     "data": {
      "text/html": [
       "<div>\n",
       "<style scoped>\n",
       "    .dataframe tbody tr th:only-of-type {\n",
       "        vertical-align: middle;\n",
       "    }\n",
       "\n",
       "    .dataframe tbody tr th {\n",
       "        vertical-align: top;\n",
       "    }\n",
       "\n",
       "    .dataframe thead th {\n",
       "        text-align: right;\n",
       "    }\n",
       "</style>\n",
       "<table border=\"1\" class=\"dataframe\">\n",
       "  <thead>\n",
       "    <tr style=\"text-align: right;\">\n",
       "      <th></th>\n",
       "      <th>hidden_test</th>\n",
       "      <th>our_test</th>\n",
       "    </tr>\n",
       "  </thead>\n",
       "  <tbody>\n",
       "    <tr>\n",
       "      <th>pre_rinse + caustic</th>\n",
       "      <td>1182</td>\n",
       "      <td>589</td>\n",
       "    </tr>\n",
       "    <tr>\n",
       "      <th>pre_rinse + caustic + intermediate_rinse + acid</th>\n",
       "      <td>671</td>\n",
       "      <td>351</td>\n",
       "    </tr>\n",
       "    <tr>\n",
       "      <th>pre_rinse + caustic + intermediate_rinse</th>\n",
       "      <td>670</td>\n",
       "      <td>336</td>\n",
       "    </tr>\n",
       "    <tr>\n",
       "      <th>pre_rinse</th>\n",
       "      <td>292</td>\n",
       "      <td>149</td>\n",
       "    </tr>\n",
       "    <tr>\n",
       "      <th>acid</th>\n",
       "      <td>122</td>\n",
       "      <td>58</td>\n",
       "    </tr>\n",
       "    <tr>\n",
       "      <th>caustic</th>\n",
       "      <td>23</td>\n",
       "      <td>11</td>\n",
       "    </tr>\n",
       "    <tr>\n",
       "      <th>caustic + intermediate_rinse + acid</th>\n",
       "      <td>5</td>\n",
       "      <td>7</td>\n",
       "    </tr>\n",
       "    <tr>\n",
       "      <th>caustic + intermediate_rinse</th>\n",
       "      <td>2</td>\n",
       "      <td>0</td>\n",
       "    </tr>\n",
       "  </tbody>\n",
       "</table>\n",
       "</div>"
      ],
      "text/plain": [
       "                                                 hidden_test  our_test\n",
       "pre_rinse + caustic                                     1182       589\n",
       "pre_rinse + caustic + intermediate_rinse + acid          671       351\n",
       "pre_rinse + caustic + intermediate_rinse                 670       336\n",
       "pre_rinse                                                292       149\n",
       "acid                                                     122        58\n",
       "caustic                                                   23        11\n",
       "caustic + intermediate_rinse + acid                        5         7\n",
       "caustic + intermediate_rinse                               2         0"
      ]
     },
     "execution_count": 18,
     "metadata": {},
     "output_type": "execute_result"
    }
   ],
   "source": [
    "pd.concat([recipe_count(test_values).rename('hidden_test'), recipe_count(test_ts_truncated).rename('our_test')], axis=1, sort=False).fillna(0).astype(int)"
   ]
  },
  {
   "cell_type": "code",
   "execution_count": 19,
   "metadata": {},
   "outputs": [
    {
     "data": {
      "text/html": [
       "<div>\n",
       "<style scoped>\n",
       "    .dataframe tbody tr th:only-of-type {\n",
       "        vertical-align: middle;\n",
       "    }\n",
       "\n",
       "    .dataframe tbody tr th {\n",
       "        vertical-align: top;\n",
       "    }\n",
       "\n",
       "    .dataframe thead th {\n",
       "        text-align: right;\n",
       "    }\n",
       "</style>\n",
       "<table border=\"1\" class=\"dataframe\">\n",
       "  <thead>\n",
       "    <tr style=\"text-align: right;\">\n",
       "      <th></th>\n",
       "      <th>hidden_test</th>\n",
       "      <th>our_train</th>\n",
       "    </tr>\n",
       "  </thead>\n",
       "  <tbody>\n",
       "    <tr>\n",
       "      <th>pre_rinse + caustic</th>\n",
       "      <td>1182</td>\n",
       "      <td>1409</td>\n",
       "    </tr>\n",
       "    <tr>\n",
       "      <th>pre_rinse + caustic + intermediate_rinse + acid</th>\n",
       "      <td>671</td>\n",
       "      <td>777</td>\n",
       "    </tr>\n",
       "    <tr>\n",
       "      <th>pre_rinse + caustic + intermediate_rinse</th>\n",
       "      <td>670</td>\n",
       "      <td>785</td>\n",
       "    </tr>\n",
       "    <tr>\n",
       "      <th>pre_rinse</th>\n",
       "      <td>292</td>\n",
       "      <td>350</td>\n",
       "    </tr>\n",
       "    <tr>\n",
       "      <th>acid</th>\n",
       "      <td>122</td>\n",
       "      <td>141</td>\n",
       "    </tr>\n",
       "    <tr>\n",
       "      <th>caustic</th>\n",
       "      <td>23</td>\n",
       "      <td>27</td>\n",
       "    </tr>\n",
       "    <tr>\n",
       "      <th>caustic + intermediate_rinse + acid</th>\n",
       "      <td>5</td>\n",
       "      <td>15</td>\n",
       "    </tr>\n",
       "    <tr>\n",
       "      <th>caustic + intermediate_rinse</th>\n",
       "      <td>2</td>\n",
       "      <td>0</td>\n",
       "    </tr>\n",
       "  </tbody>\n",
       "</table>\n",
       "</div>"
      ],
      "text/plain": [
       "                                                 hidden_test  our_train\n",
       "pre_rinse + caustic                                     1182       1409\n",
       "pre_rinse + caustic + intermediate_rinse + acid          671        777\n",
       "pre_rinse + caustic + intermediate_rinse                 670        785\n",
       "pre_rinse                                                292        350\n",
       "acid                                                     122        141\n",
       "caustic                                                   23         27\n",
       "caustic + intermediate_rinse + acid                        5         15\n",
       "caustic + intermediate_rinse                               2          0"
      ]
     },
     "execution_count": 19,
     "metadata": {},
     "output_type": "execute_result"
    }
   ],
   "source": [
    "pd.concat([recipe_count(test_values).rename('hidden_test'), recipe_count(train_ts_truncated).rename('our_train')], axis=1, sort=False).fillna(0).astype(int)"
   ]
  },
  {
   "cell_type": "markdown",
   "metadata": {},
   "source": [
    "Looks good - we can ignore low-count recipes."
   ]
  },
  {
   "cell_type": "markdown",
   "metadata": {},
   "source": [
    "# Sanity checks"
   ]
  },
  {
   "cell_type": "markdown",
   "metadata": {},
   "source": [
    "Did we drop data points or columns?"
   ]
  },
  {
   "cell_type": "code",
   "execution_count": 20,
   "metadata": {},
   "outputs": [],
   "source": [
    "assert len(train_view) == len(train_timeseries) + len(test_timeseries)"
   ]
  },
  {
   "cell_type": "code",
   "execution_count": 21,
   "metadata": {},
   "outputs": [],
   "source": [
    "assert train_view.shape[1] == train_timeseries.shape[1] == test_timeseries.shape[1]"
   ]
  },
  {
   "cell_type": "markdown",
   "metadata": {},
   "source": [
    "Have we lost any processes?"
   ]
  },
  {
   "cell_type": "code",
   "execution_count": 22,
   "metadata": {},
   "outputs": [],
   "source": [
    "assert train_view['process_id'].nunique() == train_ts_truncated['process_id'].nunique() + test_ts_truncated['process_id'].nunique()"
   ]
  },
  {
   "cell_type": "markdown",
   "metadata": {},
   "source": [
    "Did we bleed data?"
   ]
  },
  {
   "cell_type": "code",
   "execution_count": 23,
   "metadata": {},
   "outputs": [],
   "source": [
    "assert not set(train_ts_truncated['process_id'].unique()).intersection(test_ts_truncated['process_id'].unique())"
   ]
  },
  {
   "cell_type": "markdown",
   "metadata": {},
   "source": [
    "Do we have target values for all processes?"
   ]
  },
  {
   "cell_type": "code",
   "execution_count": 24,
   "metadata": {},
   "outputs": [],
   "source": [
    "assert not set(train_ts_truncated['process_id'].unique()).difference(set(train_target.index))"
   ]
  },
  {
   "cell_type": "code",
   "execution_count": 25,
   "metadata": {},
   "outputs": [],
   "source": [
    "assert not set(test_ts_truncated['process_id'].unique()).difference(set(test_target.index))"
   ]
  },
  {
   "cell_type": "markdown",
   "metadata": {},
   "source": [
    "# Save data"
   ]
  },
  {
   "cell_type": "code",
   "execution_count": 26,
   "metadata": {},
   "outputs": [],
   "source": [
    "# we sort indices to make matching of features and targets easier\n",
    "train_target = train_target.sort_index()\n",
    "test_target  =  test_target.sort_index()"
   ]
  },
  {
   "cell_type": "code",
   "execution_count": 27,
   "metadata": {},
   "outputs": [],
   "source": [
    "train_target.to_parquet(DATA_PROCESSED / 'train_target.parquet')\n",
    "test_target.to_parquet( DATA_PROCESSED / 'test_target.parquet')\n",
    "\n",
    "train_ts_truncated.to_parquet(DATA_PROCESSED / 'train_ts_truncated.parquet')\n",
    "test_ts_truncated.to_parquet( DATA_PROCESSED / 'test_ts_truncated.parquet')"
   ]
  },
  {
   "cell_type": "code",
   "execution_count": 28,
   "metadata": {},
   "outputs": [],
   "source": [
    "# save to parquet without any change\n",
    "test_values.to_parquet(DATA_RAW / 'test_values.parquet')"
   ]
  },
  {
   "cell_type": "code",
   "execution_count": null,
   "metadata": {},
   "outputs": [],
   "source": []
  }
 ],
 "metadata": {
  "kernelspec": {
   "display_name": "Python 3",
   "language": "python",
   "name": "python3"
  },
  "language_info": {
   "codemirror_mode": {
    "name": "ipython",
    "version": 3
   },
   "file_extension": ".py",
   "mimetype": "text/x-python",
   "name": "python",
   "nbconvert_exporter": "python",
   "pygments_lexer": "ipython3",
   "version": "3.7.1"
  }
 },
 "nbformat": 4,
 "nbformat_minor": 2
}
